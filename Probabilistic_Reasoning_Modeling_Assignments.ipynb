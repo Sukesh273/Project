{
 "cells": [
  {
   "cell_type": "code",
   "execution_count": 3,
   "id": "84fb0f67",
   "metadata": {},
   "outputs": [
    {
     "name": "stdout",
     "output_type": "stream",
     "text": [
      "Requirement already satisfied: numpy in c:\\users\\piyus\\appdata\\local\\programs\\python\\python313\\lib\\site-packages (2.1.3)\n",
      "Requirement already satisfied: pandas in c:\\users\\piyus\\appdata\\local\\programs\\python\\python313\\lib\\site-packages (2.2.3)\n",
      "Requirement already satisfied: matplotlib in c:\\users\\piyus\\appdata\\local\\programs\\python\\python313\\lib\\site-packages (3.9.3)\n",
      "Requirement already satisfied: matplotlib-venn in c:\\users\\piyus\\appdata\\local\\programs\\python\\python313\\lib\\site-packages (1.1.2)\n",
      "Requirement already satisfied: python-dateutil>=2.8.2 in c:\\users\\piyus\\appdata\\local\\programs\\python\\python313\\lib\\site-packages (from pandas) (2.9.0.post0)\n",
      "Requirement already satisfied: pytz>=2020.1 in c:\\users\\piyus\\appdata\\local\\programs\\python\\python313\\lib\\site-packages (from pandas) (2024.2)\n",
      "Requirement already satisfied: tzdata>=2022.7 in c:\\users\\piyus\\appdata\\local\\programs\\python\\python313\\lib\\site-packages (from pandas) (2024.2)\n",
      "Requirement already satisfied: contourpy>=1.0.1 in c:\\users\\piyus\\appdata\\local\\programs\\python\\python313\\lib\\site-packages (from matplotlib) (1.3.1)\n",
      "Requirement already satisfied: cycler>=0.10 in c:\\users\\piyus\\appdata\\local\\programs\\python\\python313\\lib\\site-packages (from matplotlib) (0.12.1)\n",
      "Requirement already satisfied: fonttools>=4.22.0 in c:\\users\\piyus\\appdata\\local\\programs\\python\\python313\\lib\\site-packages (from matplotlib) (4.55.2)\n",
      "Requirement already satisfied: kiwisolver>=1.3.1 in c:\\users\\piyus\\appdata\\local\\programs\\python\\python313\\lib\\site-packages (from matplotlib) (1.4.7)\n",
      "Requirement already satisfied: packaging>=20.0 in c:\\users\\piyus\\appdata\\local\\programs\\python\\python313\\lib\\site-packages (from matplotlib) (24.2)\n",
      "Requirement already satisfied: pillow>=8 in c:\\users\\piyus\\appdata\\local\\programs\\python\\python313\\lib\\site-packages (from matplotlib) (11.0.0)\n",
      "Requirement already satisfied: pyparsing>=2.3.1 in c:\\users\\piyus\\appdata\\local\\programs\\python\\python313\\lib\\site-packages (from matplotlib) (3.2.0)\n",
      "Requirement already satisfied: scipy in c:\\users\\piyus\\appdata\\local\\programs\\python\\python313\\lib\\site-packages (from matplotlib-venn) (1.16.2)\n",
      "Requirement already satisfied: six>=1.5 in c:\\users\\piyus\\appdata\\local\\programs\\python\\python313\\lib\\site-packages (from python-dateutil>=2.8.2->pandas) (1.17.0)\n",
      "Note: you may need to restart the kernel to use updated packages.\n"
     ]
    },
    {
     "name": "stderr",
     "output_type": "stream",
     "text": [
      "\n",
      "[notice] A new release of pip is available: 25.0.1 -> 25.2\n",
      "[notice] To update, run: python.exe -m pip install --upgrade pip\n"
     ]
    }
   ],
   "source": [
    "%pip install numpy pandas matplotlib matplotlib-venn"
   ]
  },
  {
   "cell_type": "markdown",
   "id": "d613a88b",
   "metadata": {},
   "source": [
    "# Probabilistic Reasoning and Modeling using Python\n",
    "\n",
    "**Assignments 1 & 2 — Computations in Python (Jupyter Notebook)**\n",
    "\n",
    "**Author:** Piyush Kumar Sharma  \n",
    "**Date:** 28 Sep 2025\n",
    "\n",
    "**Name:** Piyush Kumar Sharma   **Roll No:** 2401730173   **Course:** B.Tech CSE (AI & ML)   **Semester:** 3   **Section:** A\n",
    "\n",
    "---\n"
   ]
  },
  {
   "cell_type": "markdown",
   "id": "a06ee577",
   "metadata": {},
   "source": [
    "## Assignment 1\n",
    "\n",
    "### Q1: Bike prices\n",
    "The prices of five bikes in a shop are: ₹12,000, ₹15,000, ₹18,000, ₹20,000, ₹50,000\n",
    "\n",
    "(a) What is the mean price of a bike?\n",
    "\n",
    "(b) What is the median price of a bike?\n",
    "\n",
    "(c) If the shop owner wants to make the bikes seem affordable, which \"average\" (mean or median) should they advertise? Why?\n"
   ]
  },
  {
   "cell_type": "code",
   "execution_count": 4,
   "id": "33b1ad79",
   "metadata": {},
   "outputs": [
    {
     "name": "stdout",
     "output_type": "stream",
     "text": [
      "Bike Prices Analysis:\n",
      "Prices: [12000, 15000, 18000, 20000, 50000]\n",
      "Sorted: [12000, 15000, 18000, 20000, 50000]\n",
      "\n",
      "(a) Mean price: ₹23,000\n",
      "(b) Median price: ₹18,000\n",
      "\n",
      "(c) Which average to advertise?\n",
      "The shop owner should advertise the MEDIAN (₹18,000)\n",
      "Because the median is not affected by the high price of ₹50,000\n",
      "The mean (₹23,000) is pulled up by this outlier\n"
     ]
    }
   ],
   "source": [
    "# Bike prices analysis\n",
    "prices = [12000, 15000, 18000, 20000, 50000]\n",
    "\n",
    "# (a) Calculate mean\n",
    "mean_price = sum(prices) / len(prices)\n",
    "\n",
    "# (b) Calculate median\n",
    "sorted_prices = sorted(prices)\n",
    "n = len(prices)\n",
    "median_price = sorted_prices[n//2]  # For odd number of elements\n",
    "\n",
    "print(\"Bike Prices Analysis:\")\n",
    "print(f\"Prices: {prices}\")\n",
    "print(f\"Sorted: {sorted_prices}\")\n",
    "print()\n",
    "print(f\"(a) Mean price: ₹{mean_price:,.0f}\")\n",
    "print(f\"(b) Median price: ₹{median_price:,.0f}\")\n",
    "print()\n",
    "print(\"(c) Which average to advertise?\")\n",
    "print(f\"The shop owner should advertise the MEDIAN (₹{median_price:,.0f})\")\n",
    "print(\"Because the median is not affected by the high price of ₹50,000\")\n",
    "print(f\"The mean (₹{mean_price:,.0f}) is pulled up by this outlier\")\n"
   ]
  },
  {
   "cell_type": "markdown",
   "id": "febb98fc",
   "metadata": {},
   "source": [
    "**Answer (c):** The shop owner should advertise the **median** price because the median is robust to outliers (the ₹50,000 bike). The mean is pulled upward by that high price and may give a misleading impression."
   ]
  },
  {
   "cell_type": "markdown",
   "id": "f61ac244",
   "metadata": {},
   "source": [
    "### Q2: Relationship between histogram shape and mean/median/mode in a left-skewed distribution\n",
    "\n",
    "In a left-skewed (negatively skewed) distribution:\n",
    "\n",
    "- mean < median < mode\n",
    "\n",
    "The mean is pulled toward the long left tail, the median is less sensitive, and the mode remains near the peak."
   ]
  },
  {
   "cell_type": "markdown",
   "id": "ad5e9418",
   "metadata": {},
   "source": [
    "### Q3: Exam scores for 10 students\n",
    "Data (out of 100): 85, 92, 78, 90, 85, 67, 88, 95, 85, 72\n",
    "\n",
    "(a) Calculate the mean, median, and mode.\n",
    "(b) Describe the shape of the distribution.\n",
    "(c) Find the five-number summary.\n"
   ]
  },
  {
   "cell_type": "code",
   "execution_count": 5,
   "id": "e59e99b4",
   "metadata": {},
   "outputs": [
    {
     "data": {
      "text/plain": [
       "(83.7, 85.0, [85], {'min': 67, 'Q1': 78, 'median': 85.0, 'Q3': 90, 'max': 95})"
      ]
     },
     "execution_count": 5,
     "metadata": {},
     "output_type": "execute_result"
    }
   ],
   "source": [
    "from collections import Counter\n",
    "import statistics as st\n",
    "\n",
    "scores = [85, 92, 78, 90, 85, 67, 88, 95, 85, 72]\n",
    "n = len(scores)\n",
    "sorted_scores = sorted(scores)\n",
    "\n",
    "mean_scores = sum(scores) / n\n",
    "# median for even n: average of two middle values\n",
    "median_scores = (sorted_scores[n//2 - 1] + sorted_scores[n//2]) / 2\n",
    "# mode (could be multimodal; statistics.mode raises for no unique mode)\n",
    "freq = Counter(scores)\n",
    "mode_scores = [k for k,v in freq.items() if v == max(freq.values())]\n",
    "\n",
    "# Five-number summary\n",
    "minimum = sorted_scores[0]\n",
    "maximum = sorted_scores[-1]\n",
    "q1 = st.median(sorted_scores[:n//2])   # lower quartile\n",
    "q3 = st.median(sorted_scores[n//2:])   # upper quartile\n",
    "\n",
    "mean_scores, median_scores, mode_scores, {\"min\": minimum, \"Q1\": q1, \"median\": median_scores, \"Q3\": q3, \"max\": maximum}\n"
   ]
  },
  {
   "cell_type": "markdown",
   "id": "c0015dea",
   "metadata": {},
   "source": [
    "**Distribution shape:** Compare mean and median. If mean < median, distribution is left-skewed; if mean > median, right-skewed; if approximately equal, roughly symmetric."
   ]
  },
  {
   "cell_type": "markdown",
   "id": "993cd495",
   "metadata": {},
   "source": [
    "### Q4: Population parameter vs Sample statistic\n",
    "\n",
    "- **Parameter:** A numerical summary of a population (e.g., population mean μ). Example: the average salary of all 5,000 employees is μ = 60,000.\n",
    "- **Statistic:** A numerical summary computed from a sample (e.g., sample mean x̄). Example: surveying 100 employees yields x̄ = 62,000."
   ]
  },
  {
   "cell_type": "markdown",
   "id": "74a0230c",
   "metadata": {},
   "source": [
    "### Q5: Salaries: $45,000, $50,000, $55,000, $60,000, $250,000\n",
    "(a) Calculate mean and median.\n",
    "(b) Which 'average' would company advertise vs what a candidate prefers?\n"
   ]
  },
  {
   "cell_type": "code",
   "execution_count": 6,
   "id": "1eb7fc1b",
   "metadata": {},
   "outputs": [
    {
     "data": {
      "text/plain": [
       "(92000.0, 55000)"
      ]
     },
     "execution_count": 6,
     "metadata": {},
     "output_type": "execute_result"
    }
   ],
   "source": [
    "salaries = [45000, 50000, 55000, 60000, 250000]\n",
    "mean_salary = sum(salaries) / len(salaries)\n",
    "median_salary = sorted(salaries)[len(salaries)//2]\n",
    "\n",
    "mean_salary, median_salary\n"
   ]
  },
  {
   "cell_type": "markdown",
   "id": "55e643d0",
   "metadata": {},
   "source": [
    "**Answer (b):** The company would likely advertise the **mean** (higher because of the $250,000 outlier). A potential employee would prefer the **median**, which represents the typical employee's salary better."
   ]
  },
  {
   "cell_type": "markdown",
   "id": "5a88df7f",
   "metadata": {},
   "source": [
    "### Q6: (Repeat) Exam Scores — same as Q3\n",
    "You can reuse the Q3 computations above; results are identical."
   ]
  },
  {
   "cell_type": "markdown",
   "id": "3c8f87d2",
   "metadata": {},
   "source": [
    "### Q7: Categorical data and bar chart\n",
    "Raw Data: F, H, O, F, F, O, H, F, O, F, H, F, F, F, O, H, O, F, H, F\n",
    "\n",
    "(a) Frequency table\n",
    "(b) Bar chart\n",
    "(c) Most popular mode and percentage\n",
    "(d) Why not a histogram?\n"
   ]
  },
  {
   "cell_type": "code",
   "execution_count": 7,
   "id": "b6bcaed9",
   "metadata": {},
   "outputs": [
    {
     "data": {
      "image/png": "[encoded data removed]",
      "text/plain": [
       "<Figure size 600x400 with 1 Axes>"
      ]
     },
     "metadata": {},
     "output_type": "display_data"
    },
    {
     "data": {
      "text/plain": [
       "('F', 50.0)"
      ]
     },
     "execution_count": 7,
     "metadata": {},
     "output_type": "execute_result"
    }
   ],
   "source": [
    "from collections import Counter\n",
    "import matplotlib.pyplot as plt\n",
    "\n",
    "modes = [\"F\",\"H\",\"O\",\"F\",\"F\",\"O\",\"H\",\"F\",\"O\",\"F\",\"H\",\"F\",\"F\",\"F\",\"O\",\"H\",\"O\",\"F\",\"H\",\"F\"]\n",
    "counts = Counter(modes)\n",
    "\n",
    "# Frequency table\n",
    "counts\n",
    "\n",
    "# Bar chart\n",
    "labels = list(counts.keys())\n",
    "values = [counts[k] for k in labels]\n",
    "\n",
    "plt.figure(figsize=(6,4))\n",
    "plt.bar(labels, values)\n",
    "plt.title(\"Preferred Learning Mode (n=20)\")\n",
    "plt.xlabel(\"Mode\")\n",
    "plt.ylabel(\"Count\")\n",
    "plt.grid(axis='y', alpha=0.3)\n",
    "plt.show()\n",
    "\n",
    "# Most popular and percentage\n",
    "most_pop = max(counts, key=counts.get)\n",
    "percent = (counts[most_pop] / len(modes)) * 100\n",
    "most_pop, round(percent,1)\n"
   ]
  },
  {
   "cell_type": "markdown",
   "id": "713a96a7",
   "metadata": {},
   "source": [
    "**(d) Why not histogram?** Histograms are for numerical/continuous data with bins. For categorical data, use a bar chart."
   ]
  },
  {
   "cell_type": "markdown",
   "id": "22c0a0c7",
   "metadata": {},
   "source": [
    "## Assignment 2\n",
    "\n",
    "### Q1: Marbles problem\n",
    "A jar contains 5 red and 7 blue marbles. Two marbles are drawn randomly one after the other without replacement. What is the probability that the second marble is red, given that the first one was blue?\n"
   ]
  },
  {
   "cell_type": "code",
   "execution_count": 8,
   "id": "921cb510",
   "metadata": {},
   "outputs": [
    {
     "name": "stdout",
     "output_type": "stream",
     "text": [
      "Initial situation:\n",
      "Red marbles: 5\n",
      "Blue marbles: 7\n",
      "Total: 12\n",
      "\n",
      "After drawing one blue marble:\n",
      "Red marbles: 5\n",
      "Blue marbles: 6\n",
      "Total: 11\n",
      "\n",
      "Probability second marble is red = 5/11\n",
      "                                 = 0.4545\n",
      "                                 = 45.5%\n"
     ]
    }
   ],
   "source": [
    "# Marbles problem\n",
    "# Initial: 5 red, 7 blue = 12 total\n",
    "# After drawing blue first: 5 red, 6 blue = 11 total\n",
    "\n",
    "red_initial = 5\n",
    "blue_initial = 7\n",
    "total_initial = 12\n",
    "\n",
    "print(\"Initial situation:\")\n",
    "print(f\"Red marbles: {red_initial}\")\n",
    "print(f\"Blue marbles: {blue_initial}\")\n",
    "print(f\"Total: {total_initial}\")\n",
    "\n",
    "# After first marble (blue) is drawn\n",
    "red_remaining = 5\n",
    "blue_remaining = 6 \n",
    "total_remaining = 11\n",
    "\n",
    "print(\"\\nAfter drawing one blue marble:\")\n",
    "print(f\"Red marbles: {red_remaining}\")\n",
    "print(f\"Blue marbles: {blue_remaining}\")\n",
    "print(f\"Total: {total_remaining}\")\n",
    "\n",
    "# Probability second marble is red\n",
    "prob_red = red_remaining / total_remaining\n",
    "\n",
    "print(f\"\\nProbability second marble is red = {red_remaining}/{total_remaining}\")\n",
    "print(f\"                                 = {prob_red:.4f}\")\n",
    "print(f\"                                 = {prob_red*100:.1f}%\")\n"
   ]
  },
  {
   "cell_type": "markdown",
   "id": "b1fca91d",
   "metadata": {},
   "source": [
    "### Q2: Probability of disease given a positive test (Bayes' theorem)\n",
    "Given:\n",
    "- P(D) = 0.01\n",
    "- P(+ | D) = 0.95 (sensitivity)\n",
    "- P(+ | not D) = 0.02 (false positive rate)\n",
    "\n",
    "Compute P(D | +).\n"
   ]
  },
  {
   "cell_type": "code",
   "execution_count": 9,
   "id": "c763be33",
   "metadata": {},
   "outputs": [
    {
     "name": "stdout",
     "output_type": "stream",
     "text": [
      "Given probabilities:\n",
      "P(Disease) = 0.01\n",
      "P(No Disease) = 0.99\n",
      "P(+|Disease) = 0.95\n",
      "P(+|No Disease) = 0.02\n",
      "\n",
      "Step 1 - Calculate P(+):\n",
      "P(+) = P(+|D)×P(D) + P(+|¬D)×P(¬D)\n",
      "     = 0.95×0.01 + 0.02×0.99\n",
      "     = 0.0293\n",
      "\n",
      "Step 2 - Apply Bayes theorem:\n",
      "P(D|+) = P(+|D)×P(D) / P(+)\n",
      "       = 0.95×0.01 / 0.0293\n",
      "       = 0.324232\n",
      "       = 32.42%\n"
     ]
    }
   ],
   "source": [
    "# Bayes theorem problem\n",
    "# Given:\n",
    "P_D = 0.01          # P(Disease) = 1%\n",
    "P_pos_given_D = 0.95    # P(+|Disease) = 95% \n",
    "P_pos_given_notD = 0.02 # P(+|No Disease) = 2%\n",
    "\n",
    "# Calculate P(No Disease)\n",
    "P_notD = 1 - P_D\n",
    "\n",
    "print(\"Given probabilities:\")\n",
    "print(f\"P(Disease) = {P_D}\")\n",
    "print(f\"P(No Disease) = {P_notD}\")\n",
    "print(f\"P(+|Disease) = {P_pos_given_D}\")\n",
    "print(f\"P(+|No Disease) = {P_pos_given_notD}\")\n",
    "\n",
    "# Step 1: Calculate P(+) using law of total probability\n",
    "P_pos = P_pos_given_D * P_D + P_pos_given_notD * P_notD\n",
    "\n",
    "print(f\"\\nStep 1 - Calculate P(+):\")\n",
    "print(f\"P(+) = P(+|D)×P(D) + P(+|¬D)×P(¬D)\")\n",
    "print(f\"     = {P_pos_given_D}×{P_D} + {P_pos_given_notD}×{P_notD}\")\n",
    "print(f\"     = {P_pos}\")\n",
    "\n",
    "# Step 2: Apply Bayes theorem\n",
    "P_D_given_pos = (P_pos_given_D * P_D) / P_pos\n",
    "\n",
    "print(f\"\\nStep 2 - Apply Bayes theorem:\")\n",
    "print(f\"P(D|+) = P(+|D)×P(D) / P(+)\")\n",
    "print(f\"       = {P_pos_given_D}×{P_D} / {P_pos}\")\n",
    "print(f\"       = {P_D_given_pos:.6f}\")\n",
    "print(f\"       = {P_D_given_pos*100:.2f}%\")\n"
   ]
  },
  {
   "cell_type": "markdown",
   "id": "949041f8",
   "metadata": {},
   "source": [
    "### Q3: Doctor's prior changed on test\n",
    "Repeat Bayes with prior P(D)=0.30\n"
   ]
  },
  {
   "cell_type": "code",
   "execution_count": 10,
   "id": "ed0c5ebb",
   "metadata": {},
   "outputs": [
    {
     "name": "stdout",
     "output_type": "stream",
     "text": [
      "With doctor's prior:\n",
      "P(Disease) = 0.3\n",
      "P(No Disease) = 0.7\n",
      "\n",
      "Calculation:\n",
      "P(+) = 0.95×0.3 + 0.02×0.7 = 0.299\n",
      "P(D|+) = 0.95×0.3 / 0.299 = 0.9532\n",
      "       = 95.32%\n"
     ]
    }
   ],
   "source": [
    "# Bayes theorem with doctor's prior\n",
    "# Same test, but now P(D) = 0.30\n",
    "P_D = 0.30              # P(Disease) = 30%\n",
    "P_pos_given_D = 0.95    # P(+|Disease) = 95% \n",
    "P_pos_given_notD = 0.02 # P(+|No Disease) = 2%\n",
    "\n",
    "# Calculate P(No Disease)\n",
    "P_notD = 1 - P_D\n",
    "\n",
    "print(\"With doctor's prior:\")\n",
    "print(f\"P(Disease) = {P_D}\")\n",
    "print(f\"P(No Disease) = {P_notD}\")\n",
    "\n",
    "# Calculate P(+)\n",
    "P_pos = P_pos_given_D * P_D + P_pos_given_notD * P_notD\n",
    "\n",
    "# Apply Bayes theorem\n",
    "P_D_given_pos = (P_pos_given_D * P_D) / P_pos\n",
    "\n",
    "print(f\"\\nCalculation:\")\n",
    "print(f\"P(+) = {P_pos_given_D}×{P_D} + {P_pos_given_notD}×{P_notD} = {P_pos}\")\n",
    "print(f\"P(D|+) = {P_pos_given_D}×{P_D} / {P_pos} = {P_D_given_pos:.4f}\")\n",
    "print(f\"       = {P_D_given_pos*100:.2f}%\")\n"
   ]
  },
  {
   "cell_type": "markdown",
   "id": "a24a907f",
   "metadata": {},
   "source": [
    "### Q4 & Q5: Venn diagram counts\n",
    "50 students, 30 Physics, 25 Chemistry, 15 both. Compute counts for only Physics, only Chemistry, both, and neither; then probability of only Physics."
   ]
  },
  {
   "cell_type": "code",
   "execution_count": 11,
   "id": "9c7d4429",
   "metadata": {},
   "outputs": [
    {
     "name": "stdout",
     "output_type": "stream",
     "text": [
      "Student distribution:\n",
      "Total students: 50\n",
      "Physics only: 15\n",
      "Chemistry only: 10\n",
      "Both subjects: 15\n",
      "Neither subject: 10\n",
      "\n",
      "Check: 15 + 10 + 15 + 10 = 50 ✓\n",
      "\n",
      "Probability of only Physics = 15/50 = 0.3000\n"
     ]
    },
    {
     "data": {
      "image/png": "[encoded data removed]",
      "text/plain": [
       "<Figure size 800x600 with 1 Axes>"
      ]
     },
     "metadata": {},
     "output_type": "display_data"
    }
   ],
   "source": [
    "# Venn diagram problem\n",
    "# 50 students total, 30 take Physics, 25 take Chemistry, 15 take both\n",
    "\n",
    "total = 50\n",
    "physics = 30\n",
    "chemistry = 25\n",
    "both = 15\n",
    "\n",
    "# Calculate the regions\n",
    "only_physics = physics - both\n",
    "only_chemistry = chemistry - both\n",
    "neither = total - (only_physics + only_chemistry + both)\n",
    "\n",
    "print(\"Student distribution:\")\n",
    "print(f\"Total students: {total}\")\n",
    "print(f\"Physics only: {only_physics}\")\n",
    "print(f\"Chemistry only: {only_chemistry}\")\n",
    "print(f\"Both subjects: {both}\")\n",
    "print(f\"Neither subject: {neither}\")\n",
    "\n",
    "# Check our calculation\n",
    "check = only_physics + only_chemistry + both + neither\n",
    "print(f\"\\nCheck: {only_physics} + {only_chemistry} + {both} + {neither} = {check} ✓\")\n",
    "\n",
    "# Probability of only Physics\n",
    "prob_only_physics = only_physics / total\n",
    "print(f\"\\nProbability of only Physics = {only_physics}/{total} = {prob_only_physics:.4f}\")\n",
    "\n",
    "# Draw simple Venn diagram using matplotlib_venn\n",
    "import matplotlib.pyplot as plt\n",
    "from matplotlib_venn import venn2\n",
    "\n",
    "plt.figure(figsize=(8, 6))\n",
    "venn2(subsets=(only_physics, only_chemistry, both), \n",
    "      set_labels=('Physics', 'Chemistry'))\n",
    "plt.title(\"Student Subject Distribution\")\n",
    "plt.show()\n"
   ]
  }
 ],
 "metadata": {
  "kernelspec": {
   "display_name": "Python 3",
   "language": "python",
   "name": "python3"
  },
  "language_info": {
   "codemirror_mode": {
    "name": "ipython",
    "version": 3
   },
   "file_extension": ".py",
   "mimetype": "text/x-python",
   "name": "python",
   "nbconvert_exporter": "python",
   "pygments_lexer": "ipython3",
   "version": "3.13.3"
  }
 },
 "nbformat": 4,
 "nbformat_minor": 5
}
